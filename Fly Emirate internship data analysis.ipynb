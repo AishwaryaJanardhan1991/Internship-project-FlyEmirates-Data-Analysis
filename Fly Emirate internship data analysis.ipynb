{
 "cells": [
  {
   "cell_type": "code",
   "execution_count": 2,
   "id": "8b683ac2-8c35-420a-8ecc-4875789f9eb5",
   "metadata": {},
   "outputs": [],
   "source": [
    "import pandas as pd\n",
    "import numpy as np"
   ]
  },
  {
   "cell_type": "code",
   "execution_count": 3,
   "id": "f9c5dc3d-cd3b-4d6f-8f7a-145e010f35ff",
   "metadata": {},
   "outputs": [],
   "source": [
    "df = pd.read_csv(\"C:/ProgramData/MySQL/MySQL Server 8.0/Uploads/Project files internship/airlines.csv\")"
   ]
  },
  {
   "cell_type": "code",
   "execution_count": 4,
   "id": "e0cafde8-cd2f-437f-a758-f31e3e9dbaa0",
   "metadata": {},
   "outputs": [
    {
     "data": {
      "text/html": [
       "<div>\n",
       "<style scoped>\n",
       "    .dataframe tbody tr th:only-of-type {\n",
       "        vertical-align: middle;\n",
       "    }\n",
       "\n",
       "    .dataframe tbody tr th {\n",
       "        vertical-align: top;\n",
       "    }\n",
       "\n",
       "    .dataframe thead th {\n",
       "        text-align: right;\n",
       "    }\n",
       "</style>\n",
       "<table border=\"1\" class=\"dataframe\">\n",
       "  <thead>\n",
       "    <tr style=\"text-align: right;\">\n",
       "      <th></th>\n",
       "      <th>IATA_CODE</th>\n",
       "      <th>AIRLINE</th>\n",
       "    </tr>\n",
       "  </thead>\n",
       "  <tbody>\n",
       "    <tr>\n",
       "      <th>0</th>\n",
       "      <td>UA</td>\n",
       "      <td>United Air Lines Inc.</td>\n",
       "    </tr>\n",
       "    <tr>\n",
       "      <th>1</th>\n",
       "      <td>AA</td>\n",
       "      <td>American Airlines Inc.</td>\n",
       "    </tr>\n",
       "    <tr>\n",
       "      <th>2</th>\n",
       "      <td>US</td>\n",
       "      <td>US Airways Inc.</td>\n",
       "    </tr>\n",
       "    <tr>\n",
       "      <th>3</th>\n",
       "      <td>F9</td>\n",
       "      <td>Frontier Airlines Inc.</td>\n",
       "    </tr>\n",
       "    <tr>\n",
       "      <th>4</th>\n",
       "      <td>B6</td>\n",
       "      <td>JetBlue Airways</td>\n",
       "    </tr>\n",
       "    <tr>\n",
       "      <th>5</th>\n",
       "      <td>OO</td>\n",
       "      <td>Skywest Airlines Inc.</td>\n",
       "    </tr>\n",
       "    <tr>\n",
       "      <th>6</th>\n",
       "      <td>AS</td>\n",
       "      <td>Alaska Airlines Inc.</td>\n",
       "    </tr>\n",
       "    <tr>\n",
       "      <th>7</th>\n",
       "      <td>NK</td>\n",
       "      <td>Spirit Air Lines</td>\n",
       "    </tr>\n",
       "    <tr>\n",
       "      <th>8</th>\n",
       "      <td>WN</td>\n",
       "      <td>Southwest Airlines Co.</td>\n",
       "    </tr>\n",
       "    <tr>\n",
       "      <th>9</th>\n",
       "      <td>DL</td>\n",
       "      <td>Delta Air Lines Inc.</td>\n",
       "    </tr>\n",
       "    <tr>\n",
       "      <th>10</th>\n",
       "      <td>EV</td>\n",
       "      <td>Atlantic Southeast Airlines</td>\n",
       "    </tr>\n",
       "    <tr>\n",
       "      <th>11</th>\n",
       "      <td>HA</td>\n",
       "      <td>Hawaiian Airlines Inc.</td>\n",
       "    </tr>\n",
       "    <tr>\n",
       "      <th>12</th>\n",
       "      <td>MQ</td>\n",
       "      <td>American Eagle Airlines Inc.</td>\n",
       "    </tr>\n",
       "    <tr>\n",
       "      <th>13</th>\n",
       "      <td>VX</td>\n",
       "      <td>Virgin America</td>\n",
       "    </tr>\n",
       "  </tbody>\n",
       "</table>\n",
       "</div>"
      ],
      "text/plain": [
       "   IATA_CODE                       AIRLINE\n",
       "0         UA         United Air Lines Inc.\n",
       "1         AA        American Airlines Inc.\n",
       "2         US               US Airways Inc.\n",
       "3         F9        Frontier Airlines Inc.\n",
       "4         B6               JetBlue Airways\n",
       "5         OO         Skywest Airlines Inc.\n",
       "6         AS          Alaska Airlines Inc.\n",
       "7         NK              Spirit Air Lines\n",
       "8         WN        Southwest Airlines Co.\n",
       "9         DL          Delta Air Lines Inc.\n",
       "10        EV   Atlantic Southeast Airlines\n",
       "11        HA        Hawaiian Airlines Inc.\n",
       "12        MQ  American Eagle Airlines Inc.\n",
       "13        VX                Virgin America"
      ]
     },
     "execution_count": 4,
     "metadata": {},
     "output_type": "execute_result"
    }
   ],
   "source": [
    "df"
   ]
  },
  {
   "cell_type": "code",
   "execution_count": 5,
   "id": "c2952861-26e3-44d0-84a7-2e9c8d0d5e1f",
   "metadata": {},
   "outputs": [],
   "source": [
    "df1 = pd.read_csv(\"C:/ProgramData/MySQL/MySQL Server 8.0/Uploads/Project files internship/airports.csv\")"
   ]
  },
  {
   "cell_type": "code",
   "execution_count": 6,
   "id": "543ab11e-55c8-44ae-bf6a-16b09eb219ba",
   "metadata": {},
   "outputs": [
    {
     "data": {
      "text/html": [
       "<div>\n",
       "<style scoped>\n",
       "    .dataframe tbody tr th:only-of-type {\n",
       "        vertical-align: middle;\n",
       "    }\n",
       "\n",
       "    .dataframe tbody tr th {\n",
       "        vertical-align: top;\n",
       "    }\n",
       "\n",
       "    .dataframe thead th {\n",
       "        text-align: right;\n",
       "    }\n",
       "</style>\n",
       "<table border=\"1\" class=\"dataframe\">\n",
       "  <thead>\n",
       "    <tr style=\"text-align: right;\">\n",
       "      <th></th>\n",
       "      <th>IATA_CODE</th>\n",
       "      <th>AIRPORT</th>\n",
       "      <th>CITY</th>\n",
       "      <th>STATE</th>\n",
       "      <th>COUNTRY</th>\n",
       "      <th>LATITUDE</th>\n",
       "      <th>LONGITUDE</th>\n",
       "    </tr>\n",
       "  </thead>\n",
       "  <tbody>\n",
       "    <tr>\n",
       "      <th>0</th>\n",
       "      <td>ABE</td>\n",
       "      <td>Lehigh Valley International Airport</td>\n",
       "      <td>Allentown</td>\n",
       "      <td>PA</td>\n",
       "      <td>USA</td>\n",
       "      <td>40.65236</td>\n",
       "      <td>-75.44040</td>\n",
       "    </tr>\n",
       "    <tr>\n",
       "      <th>1</th>\n",
       "      <td>ABI</td>\n",
       "      <td>Abilene Regional Airport</td>\n",
       "      <td>Abilene</td>\n",
       "      <td>TX</td>\n",
       "      <td>USA</td>\n",
       "      <td>32.41132</td>\n",
       "      <td>-99.68190</td>\n",
       "    </tr>\n",
       "    <tr>\n",
       "      <th>2</th>\n",
       "      <td>ABQ</td>\n",
       "      <td>Albuquerque International Sunport</td>\n",
       "      <td>Albuquerque</td>\n",
       "      <td>NM</td>\n",
       "      <td>USA</td>\n",
       "      <td>35.04022</td>\n",
       "      <td>-106.60919</td>\n",
       "    </tr>\n",
       "    <tr>\n",
       "      <th>3</th>\n",
       "      <td>ABR</td>\n",
       "      <td>Aberdeen Regional Airport</td>\n",
       "      <td>Aberdeen</td>\n",
       "      <td>SD</td>\n",
       "      <td>USA</td>\n",
       "      <td>45.44906</td>\n",
       "      <td>-98.42183</td>\n",
       "    </tr>\n",
       "    <tr>\n",
       "      <th>4</th>\n",
       "      <td>ABY</td>\n",
       "      <td>Southwest Georgia Regional Airport</td>\n",
       "      <td>Albany</td>\n",
       "      <td>GA</td>\n",
       "      <td>USA</td>\n",
       "      <td>31.53552</td>\n",
       "      <td>-84.19447</td>\n",
       "    </tr>\n",
       "    <tr>\n",
       "      <th>...</th>\n",
       "      <td>...</td>\n",
       "      <td>...</td>\n",
       "      <td>...</td>\n",
       "      <td>...</td>\n",
       "      <td>...</td>\n",
       "      <td>...</td>\n",
       "      <td>...</td>\n",
       "    </tr>\n",
       "    <tr>\n",
       "      <th>317</th>\n",
       "      <td>WRG</td>\n",
       "      <td>Wrangell Airport</td>\n",
       "      <td>Wrangell</td>\n",
       "      <td>AK</td>\n",
       "      <td>USA</td>\n",
       "      <td>56.48433</td>\n",
       "      <td>-132.36982</td>\n",
       "    </tr>\n",
       "    <tr>\n",
       "      <th>318</th>\n",
       "      <td>WYS</td>\n",
       "      <td>Westerly State Airport</td>\n",
       "      <td>West Yellowstone</td>\n",
       "      <td>MT</td>\n",
       "      <td>USA</td>\n",
       "      <td>44.68840</td>\n",
       "      <td>-111.11764</td>\n",
       "    </tr>\n",
       "    <tr>\n",
       "      <th>319</th>\n",
       "      <td>XNA</td>\n",
       "      <td>Northwest Arkansas Regional Airport</td>\n",
       "      <td>Fayetteville/Springdale/Rogers</td>\n",
       "      <td>AR</td>\n",
       "      <td>USA</td>\n",
       "      <td>36.28187</td>\n",
       "      <td>-94.30681</td>\n",
       "    </tr>\n",
       "    <tr>\n",
       "      <th>320</th>\n",
       "      <td>YAK</td>\n",
       "      <td>Yakutat Airport</td>\n",
       "      <td>Yakutat</td>\n",
       "      <td>AK</td>\n",
       "      <td>USA</td>\n",
       "      <td>59.50336</td>\n",
       "      <td>-139.66023</td>\n",
       "    </tr>\n",
       "    <tr>\n",
       "      <th>321</th>\n",
       "      <td>YUM</td>\n",
       "      <td>Yuma International Airport</td>\n",
       "      <td>Yuma</td>\n",
       "      <td>AZ</td>\n",
       "      <td>USA</td>\n",
       "      <td>32.65658</td>\n",
       "      <td>-114.60597</td>\n",
       "    </tr>\n",
       "  </tbody>\n",
       "</table>\n",
       "<p>322 rows × 7 columns</p>\n",
       "</div>"
      ],
      "text/plain": [
       "    IATA_CODE                              AIRPORT  \\\n",
       "0         ABE  Lehigh Valley International Airport   \n",
       "1         ABI             Abilene Regional Airport   \n",
       "2         ABQ    Albuquerque International Sunport   \n",
       "3         ABR            Aberdeen Regional Airport   \n",
       "4         ABY   Southwest Georgia Regional Airport   \n",
       "..        ...                                  ...   \n",
       "317       WRG                     Wrangell Airport   \n",
       "318       WYS               Westerly State Airport   \n",
       "319       XNA  Northwest Arkansas Regional Airport   \n",
       "320       YAK                      Yakutat Airport   \n",
       "321       YUM           Yuma International Airport   \n",
       "\n",
       "                               CITY STATE COUNTRY  LATITUDE  LONGITUDE  \n",
       "0                         Allentown    PA     USA  40.65236  -75.44040  \n",
       "1                           Abilene    TX     USA  32.41132  -99.68190  \n",
       "2                       Albuquerque    NM     USA  35.04022 -106.60919  \n",
       "3                          Aberdeen    SD     USA  45.44906  -98.42183  \n",
       "4                            Albany    GA     USA  31.53552  -84.19447  \n",
       "..                              ...   ...     ...       ...        ...  \n",
       "317                        Wrangell    AK     USA  56.48433 -132.36982  \n",
       "318                West Yellowstone    MT     USA  44.68840 -111.11764  \n",
       "319  Fayetteville/Springdale/Rogers    AR     USA  36.28187  -94.30681  \n",
       "320                         Yakutat    AK     USA  59.50336 -139.66023  \n",
       "321                            Yuma    AZ     USA  32.65658 -114.60597  \n",
       "\n",
       "[322 rows x 7 columns]"
      ]
     },
     "execution_count": 6,
     "metadata": {},
     "output_type": "execute_result"
    }
   ],
   "source": [
    "df1"
   ]
  },
  {
   "cell_type": "code",
   "execution_count": 7,
   "id": "c3fbaa40-3b0a-4b65-a977-d6cf00edfc5f",
   "metadata": {},
   "outputs": [],
   "source": [
    "df2 = pd.read_csv(\"C:/ProgramData/MySQL/MySQL Server 8.0/Uploads/Project files internship/flights.csv\",low_memory=False)"
   ]
  },
  {
   "cell_type": "code",
   "execution_count": 7,
   "id": "f940e9bb-371e-4d62-9907-3f4b1028b8d4",
   "metadata": {
    "scrolled": true
   },
   "outputs": [
    {
     "data": {
      "text/html": [
       "<div>\n",
       "<style scoped>\n",
       "    .dataframe tbody tr th:only-of-type {\n",
       "        vertical-align: middle;\n",
       "    }\n",
       "\n",
       "    .dataframe tbody tr th {\n",
       "        vertical-align: top;\n",
       "    }\n",
       "\n",
       "    .dataframe thead th {\n",
       "        text-align: right;\n",
       "    }\n",
       "</style>\n",
       "<table border=\"1\" class=\"dataframe\">\n",
       "  <thead>\n",
       "    <tr style=\"text-align: right;\">\n",
       "      <th></th>\n",
       "      <th>YEAR</th>\n",
       "      <th>MONTH</th>\n",
       "      <th>DAY</th>\n",
       "      <th>DAY_OF_WEEK</th>\n",
       "      <th>AIRLINE</th>\n",
       "      <th>FLIGHT_NUMBER</th>\n",
       "      <th>TAIL_NUMBER</th>\n",
       "      <th>ORIGIN_AIRPORT</th>\n",
       "      <th>DESTINATION_AIRPORT</th>\n",
       "      <th>SCHEDULED_DEPARTURE</th>\n",
       "      <th>...</th>\n",
       "      <th>ARRIVAL_TIME</th>\n",
       "      <th>ARRIVAL_DELAY</th>\n",
       "      <th>DIVERTED</th>\n",
       "      <th>CANCELLED</th>\n",
       "      <th>CANCELLATION_REASON</th>\n",
       "      <th>AIR_SYSTEM_DELAY</th>\n",
       "      <th>SECURITY_DELAY</th>\n",
       "      <th>AIRLINE_DELAY</th>\n",
       "      <th>LATE_AIRCRAFT_DELAY</th>\n",
       "      <th>WEATHER_DELAY</th>\n",
       "    </tr>\n",
       "  </thead>\n",
       "  <tbody>\n",
       "    <tr>\n",
       "      <th>0</th>\n",
       "      <td>2015</td>\n",
       "      <td>1</td>\n",
       "      <td>1</td>\n",
       "      <td>4</td>\n",
       "      <td>AS</td>\n",
       "      <td>98</td>\n",
       "      <td>N407AS</td>\n",
       "      <td>ANC</td>\n",
       "      <td>SEA</td>\n",
       "      <td>5</td>\n",
       "      <td>...</td>\n",
       "      <td>408.0</td>\n",
       "      <td>-22.0</td>\n",
       "      <td>0</td>\n",
       "      <td>0</td>\n",
       "      <td>NaN</td>\n",
       "      <td>NaN</td>\n",
       "      <td>NaN</td>\n",
       "      <td>NaN</td>\n",
       "      <td>NaN</td>\n",
       "      <td>NaN</td>\n",
       "    </tr>\n",
       "    <tr>\n",
       "      <th>1</th>\n",
       "      <td>2015</td>\n",
       "      <td>1</td>\n",
       "      <td>1</td>\n",
       "      <td>4</td>\n",
       "      <td>AA</td>\n",
       "      <td>2336</td>\n",
       "      <td>N3KUAA</td>\n",
       "      <td>LAX</td>\n",
       "      <td>PBI</td>\n",
       "      <td>10</td>\n",
       "      <td>...</td>\n",
       "      <td>741.0</td>\n",
       "      <td>-9.0</td>\n",
       "      <td>0</td>\n",
       "      <td>0</td>\n",
       "      <td>NaN</td>\n",
       "      <td>NaN</td>\n",
       "      <td>NaN</td>\n",
       "      <td>NaN</td>\n",
       "      <td>NaN</td>\n",
       "      <td>NaN</td>\n",
       "    </tr>\n",
       "    <tr>\n",
       "      <th>2</th>\n",
       "      <td>2015</td>\n",
       "      <td>1</td>\n",
       "      <td>1</td>\n",
       "      <td>4</td>\n",
       "      <td>US</td>\n",
       "      <td>840</td>\n",
       "      <td>N171US</td>\n",
       "      <td>SFO</td>\n",
       "      <td>CLT</td>\n",
       "      <td>20</td>\n",
       "      <td>...</td>\n",
       "      <td>811.0</td>\n",
       "      <td>5.0</td>\n",
       "      <td>0</td>\n",
       "      <td>0</td>\n",
       "      <td>NaN</td>\n",
       "      <td>NaN</td>\n",
       "      <td>NaN</td>\n",
       "      <td>NaN</td>\n",
       "      <td>NaN</td>\n",
       "      <td>NaN</td>\n",
       "    </tr>\n",
       "    <tr>\n",
       "      <th>3</th>\n",
       "      <td>2015</td>\n",
       "      <td>1</td>\n",
       "      <td>1</td>\n",
       "      <td>4</td>\n",
       "      <td>AA</td>\n",
       "      <td>258</td>\n",
       "      <td>N3HYAA</td>\n",
       "      <td>LAX</td>\n",
       "      <td>MIA</td>\n",
       "      <td>20</td>\n",
       "      <td>...</td>\n",
       "      <td>756.0</td>\n",
       "      <td>-9.0</td>\n",
       "      <td>0</td>\n",
       "      <td>0</td>\n",
       "      <td>NaN</td>\n",
       "      <td>NaN</td>\n",
       "      <td>NaN</td>\n",
       "      <td>NaN</td>\n",
       "      <td>NaN</td>\n",
       "      <td>NaN</td>\n",
       "    </tr>\n",
       "    <tr>\n",
       "      <th>4</th>\n",
       "      <td>2015</td>\n",
       "      <td>1</td>\n",
       "      <td>1</td>\n",
       "      <td>4</td>\n",
       "      <td>AS</td>\n",
       "      <td>135</td>\n",
       "      <td>N527AS</td>\n",
       "      <td>SEA</td>\n",
       "      <td>ANC</td>\n",
       "      <td>25</td>\n",
       "      <td>...</td>\n",
       "      <td>259.0</td>\n",
       "      <td>-21.0</td>\n",
       "      <td>0</td>\n",
       "      <td>0</td>\n",
       "      <td>NaN</td>\n",
       "      <td>NaN</td>\n",
       "      <td>NaN</td>\n",
       "      <td>NaN</td>\n",
       "      <td>NaN</td>\n",
       "      <td>NaN</td>\n",
       "    </tr>\n",
       "    <tr>\n",
       "      <th>...</th>\n",
       "      <td>...</td>\n",
       "      <td>...</td>\n",
       "      <td>...</td>\n",
       "      <td>...</td>\n",
       "      <td>...</td>\n",
       "      <td>...</td>\n",
       "      <td>...</td>\n",
       "      <td>...</td>\n",
       "      <td>...</td>\n",
       "      <td>...</td>\n",
       "      <td>...</td>\n",
       "      <td>...</td>\n",
       "      <td>...</td>\n",
       "      <td>...</td>\n",
       "      <td>...</td>\n",
       "      <td>...</td>\n",
       "      <td>...</td>\n",
       "      <td>...</td>\n",
       "      <td>...</td>\n",
       "      <td>...</td>\n",
       "      <td>...</td>\n",
       "    </tr>\n",
       "    <tr>\n",
       "      <th>5819074</th>\n",
       "      <td>2015</td>\n",
       "      <td>12</td>\n",
       "      <td>31</td>\n",
       "      <td>4</td>\n",
       "      <td>B6</td>\n",
       "      <td>688</td>\n",
       "      <td>N657JB</td>\n",
       "      <td>LAX</td>\n",
       "      <td>BOS</td>\n",
       "      <td>2359</td>\n",
       "      <td>...</td>\n",
       "      <td>753.0</td>\n",
       "      <td>-26.0</td>\n",
       "      <td>0</td>\n",
       "      <td>0</td>\n",
       "      <td>NaN</td>\n",
       "      <td>NaN</td>\n",
       "      <td>NaN</td>\n",
       "      <td>NaN</td>\n",
       "      <td>NaN</td>\n",
       "      <td>NaN</td>\n",
       "    </tr>\n",
       "    <tr>\n",
       "      <th>5819075</th>\n",
       "      <td>2015</td>\n",
       "      <td>12</td>\n",
       "      <td>31</td>\n",
       "      <td>4</td>\n",
       "      <td>B6</td>\n",
       "      <td>745</td>\n",
       "      <td>N828JB</td>\n",
       "      <td>JFK</td>\n",
       "      <td>PSE</td>\n",
       "      <td>2359</td>\n",
       "      <td>...</td>\n",
       "      <td>430.0</td>\n",
       "      <td>-16.0</td>\n",
       "      <td>0</td>\n",
       "      <td>0</td>\n",
       "      <td>NaN</td>\n",
       "      <td>NaN</td>\n",
       "      <td>NaN</td>\n",
       "      <td>NaN</td>\n",
       "      <td>NaN</td>\n",
       "      <td>NaN</td>\n",
       "    </tr>\n",
       "    <tr>\n",
       "      <th>5819076</th>\n",
       "      <td>2015</td>\n",
       "      <td>12</td>\n",
       "      <td>31</td>\n",
       "      <td>4</td>\n",
       "      <td>B6</td>\n",
       "      <td>1503</td>\n",
       "      <td>N913JB</td>\n",
       "      <td>JFK</td>\n",
       "      <td>SJU</td>\n",
       "      <td>2359</td>\n",
       "      <td>...</td>\n",
       "      <td>432.0</td>\n",
       "      <td>-8.0</td>\n",
       "      <td>0</td>\n",
       "      <td>0</td>\n",
       "      <td>NaN</td>\n",
       "      <td>NaN</td>\n",
       "      <td>NaN</td>\n",
       "      <td>NaN</td>\n",
       "      <td>NaN</td>\n",
       "      <td>NaN</td>\n",
       "    </tr>\n",
       "    <tr>\n",
       "      <th>5819077</th>\n",
       "      <td>2015</td>\n",
       "      <td>12</td>\n",
       "      <td>31</td>\n",
       "      <td>4</td>\n",
       "      <td>B6</td>\n",
       "      <td>333</td>\n",
       "      <td>N527JB</td>\n",
       "      <td>MCO</td>\n",
       "      <td>SJU</td>\n",
       "      <td>2359</td>\n",
       "      <td>...</td>\n",
       "      <td>330.0</td>\n",
       "      <td>-10.0</td>\n",
       "      <td>0</td>\n",
       "      <td>0</td>\n",
       "      <td>NaN</td>\n",
       "      <td>NaN</td>\n",
       "      <td>NaN</td>\n",
       "      <td>NaN</td>\n",
       "      <td>NaN</td>\n",
       "      <td>NaN</td>\n",
       "    </tr>\n",
       "    <tr>\n",
       "      <th>5819078</th>\n",
       "      <td>2015</td>\n",
       "      <td>12</td>\n",
       "      <td>31</td>\n",
       "      <td>4</td>\n",
       "      <td>B6</td>\n",
       "      <td>839</td>\n",
       "      <td>N534JB</td>\n",
       "      <td>JFK</td>\n",
       "      <td>BQN</td>\n",
       "      <td>2359</td>\n",
       "      <td>...</td>\n",
       "      <td>442.0</td>\n",
       "      <td>2.0</td>\n",
       "      <td>0</td>\n",
       "      <td>0</td>\n",
       "      <td>NaN</td>\n",
       "      <td>NaN</td>\n",
       "      <td>NaN</td>\n",
       "      <td>NaN</td>\n",
       "      <td>NaN</td>\n",
       "      <td>NaN</td>\n",
       "    </tr>\n",
       "  </tbody>\n",
       "</table>\n",
       "<p>5819079 rows × 31 columns</p>\n",
       "</div>"
      ],
      "text/plain": [
       "         YEAR  MONTH  DAY  DAY_OF_WEEK AIRLINE  FLIGHT_NUMBER TAIL_NUMBER  \\\n",
       "0        2015      1    1            4      AS             98      N407AS   \n",
       "1        2015      1    1            4      AA           2336      N3KUAA   \n",
       "2        2015      1    1            4      US            840      N171US   \n",
       "3        2015      1    1            4      AA            258      N3HYAA   \n",
       "4        2015      1    1            4      AS            135      N527AS   \n",
       "...       ...    ...  ...          ...     ...            ...         ...   \n",
       "5819074  2015     12   31            4      B6            688      N657JB   \n",
       "5819075  2015     12   31            4      B6            745      N828JB   \n",
       "5819076  2015     12   31            4      B6           1503      N913JB   \n",
       "5819077  2015     12   31            4      B6            333      N527JB   \n",
       "5819078  2015     12   31            4      B6            839      N534JB   \n",
       "\n",
       "        ORIGIN_AIRPORT DESTINATION_AIRPORT  SCHEDULED_DEPARTURE  ...  \\\n",
       "0                  ANC                 SEA                    5  ...   \n",
       "1                  LAX                 PBI                   10  ...   \n",
       "2                  SFO                 CLT                   20  ...   \n",
       "3                  LAX                 MIA                   20  ...   \n",
       "4                  SEA                 ANC                   25  ...   \n",
       "...                ...                 ...                  ...  ...   \n",
       "5819074            LAX                 BOS                 2359  ...   \n",
       "5819075            JFK                 PSE                 2359  ...   \n",
       "5819076            JFK                 SJU                 2359  ...   \n",
       "5819077            MCO                 SJU                 2359  ...   \n",
       "5819078            JFK                 BQN                 2359  ...   \n",
       "\n",
       "         ARRIVAL_TIME  ARRIVAL_DELAY  DIVERTED  CANCELLED  \\\n",
       "0               408.0          -22.0         0          0   \n",
       "1               741.0           -9.0         0          0   \n",
       "2               811.0            5.0         0          0   \n",
       "3               756.0           -9.0         0          0   \n",
       "4               259.0          -21.0         0          0   \n",
       "...               ...            ...       ...        ...   \n",
       "5819074         753.0          -26.0         0          0   \n",
       "5819075         430.0          -16.0         0          0   \n",
       "5819076         432.0           -8.0         0          0   \n",
       "5819077         330.0          -10.0         0          0   \n",
       "5819078         442.0            2.0         0          0   \n",
       "\n",
       "         CANCELLATION_REASON  AIR_SYSTEM_DELAY  SECURITY_DELAY  AIRLINE_DELAY  \\\n",
       "0                        NaN               NaN             NaN            NaN   \n",
       "1                        NaN               NaN             NaN            NaN   \n",
       "2                        NaN               NaN             NaN            NaN   \n",
       "3                        NaN               NaN             NaN            NaN   \n",
       "4                        NaN               NaN             NaN            NaN   \n",
       "...                      ...               ...             ...            ...   \n",
       "5819074                  NaN               NaN             NaN            NaN   \n",
       "5819075                  NaN               NaN             NaN            NaN   \n",
       "5819076                  NaN               NaN             NaN            NaN   \n",
       "5819077                  NaN               NaN             NaN            NaN   \n",
       "5819078                  NaN               NaN             NaN            NaN   \n",
       "\n",
       "         LATE_AIRCRAFT_DELAY  WEATHER_DELAY  \n",
       "0                        NaN            NaN  \n",
       "1                        NaN            NaN  \n",
       "2                        NaN            NaN  \n",
       "3                        NaN            NaN  \n",
       "4                        NaN            NaN  \n",
       "...                      ...            ...  \n",
       "5819074                  NaN            NaN  \n",
       "5819075                  NaN            NaN  \n",
       "5819076                  NaN            NaN  \n",
       "5819077                  NaN            NaN  \n",
       "5819078                  NaN            NaN  \n",
       "\n",
       "[5819079 rows x 31 columns]"
      ]
     },
     "execution_count": 7,
     "metadata": {},
     "output_type": "execute_result"
    }
   ],
   "source": [
    "df2"
   ]
  },
  {
   "cell_type": "code",
   "execution_count": 9,
   "id": "e50b6200-5cd3-43d0-899d-a1bbf52a3725",
   "metadata": {},
   "outputs": [
    {
     "name": "stdout",
     "output_type": "stream",
     "text": [
      "IATA_CODE                                                ECP\n",
      "AIRPORT      Northwest Florida Beaches International Airport\n",
      "CITY                                             Panama City\n",
      "STATE                                                     FL\n",
      "COUNTRY                                                  USA\n",
      "LATITUDE                                                 NaN\n",
      "LONGITUDE                                                NaN\n",
      "Name: 96, dtype: object\n"
     ]
    }
   ],
   "source": [
    "print(df1.iloc[96])"
   ]
  },
  {
   "cell_type": "code",
   "execution_count": 10,
   "id": "0bc5bd6a-2dfa-4eff-bb47-ee2657ce6070",
   "metadata": {},
   "outputs": [],
   "source": [
    "df1_cleaned = df1.dropna(subset=['LATITUDE', 'LONGITUDE'])"
   ]
  },
  {
   "cell_type": "code",
   "execution_count": 11,
   "id": "9631cbda-0a3b-4069-afea-cd421da657a0",
   "metadata": {},
   "outputs": [],
   "source": [
    "df1_cleaned.to_csv(\"C:/ProgramData/MySQL/MySQL Server 8.0/Uploads/Project files internship/airports_cleaned.csv\", index=False)"
   ]
  },
  {
   "cell_type": "code",
   "execution_count": 11,
   "id": "ff1efe2b-4307-43f5-94ca-5858753a9e5c",
   "metadata": {},
   "outputs": [
    {
     "name": "stdout",
     "output_type": "stream",
     "text": [
      "Index(['YEAR', 'MONTH', 'DAY', 'DAY_OF_WEEK', 'AIRLINE', 'FLIGHT_NUMBER',\n",
      "       'TAIL_NUMBER', 'ORIGIN_AIRPORT', 'DESTINATION_AIRPORT',\n",
      "       'SCHEDULED_DEPARTURE', 'DEPARTURE_TIME', 'DEPARTURE_DELAY', 'TAXI_OUT',\n",
      "       'WHEELS_OFF', 'SCHEDULED_TIME', 'ELAPSED_TIME', 'AIR_TIME', 'DISTANCE',\n",
      "       'WHEELS_ON', 'TAXI_IN', 'SCHEDULED_ARRIVAL', 'ARRIVAL_TIME',\n",
      "       'ARRIVAL_DELAY', 'DIVERTED', 'CANCELLED', 'CANCELLATION_REASON',\n",
      "       'AIR_SYSTEM_DELAY', 'SECURITY_DELAY', 'AIRLINE_DELAY',\n",
      "       'LATE_AIRCRAFT_DELAY', 'WEATHER_DELAY'],\n",
      "      dtype='object')\n",
      "31\n"
     ]
    }
   ],
   "source": [
    "print(df2.columns)\n",
    "print(len(df2.columns))"
   ]
  },
  {
   "cell_type": "code",
   "execution_count": 12,
   "id": "dda95cbf-46b8-4524-989c-f33e114eb168",
   "metadata": {},
   "outputs": [
    {
     "name": "stdout",
     "output_type": "stream",
     "text": [
      "YEAR                     2015\n",
      "MONTH                       1\n",
      "DAY                         1\n",
      "DAY_OF_WEEK                 4\n",
      "AIRLINE                    AS\n",
      "FLIGHT_NUMBER             136\n",
      "TAIL_NUMBER            N431AS\n",
      "ORIGIN_AIRPORT            ANC\n",
      "DESTINATION_AIRPORT       SEA\n",
      "SCHEDULED_DEPARTURE       135\n",
      "DEPARTURE_TIME            NaN\n",
      "DEPARTURE_DELAY           NaN\n",
      "TAXI_OUT                  NaN\n",
      "WHEELS_OFF                NaN\n",
      "SCHEDULED_TIME          205.0\n",
      "ELAPSED_TIME              NaN\n",
      "AIR_TIME                  NaN\n",
      "DISTANCE                 1448\n",
      "WHEELS_ON                 NaN\n",
      "TAXI_IN                   NaN\n",
      "SCHEDULED_ARRIVAL         600\n",
      "ARRIVAL_TIME              NaN\n",
      "ARRIVAL_DELAY             NaN\n",
      "DIVERTED                    0\n",
      "CANCELLED                   1\n",
      "CANCELLATION_REASON         A\n",
      "AIR_SYSTEM_DELAY          NaN\n",
      "SECURITY_DELAY            NaN\n",
      "AIRLINE_DELAY             NaN\n",
      "LATE_AIRCRAFT_DELAY       NaN\n",
      "WEATHER_DELAY             NaN\n",
      "Name: 32, dtype: object\n"
     ]
    }
   ],
   "source": [
    "print(df2.loc[32])"
   ]
  },
  {
   "cell_type": "code",
   "execution_count": 13,
   "id": "d01dca3a-c5c0-4b2e-a155-15729f2e1c03",
   "metadata": {},
   "outputs": [
    {
     "name": "stdout",
     "output_type": "stream",
     "text": [
      "Departure Time at row 33: nan\n"
     ]
    }
   ],
   "source": [
    "print(\"Departure Time at row 33:\", df2.loc[32, 'DEPARTURE_TIME'])"
   ]
  },
  {
   "cell_type": "code",
   "execution_count": 6,
   "id": "b7e8c8c9-68b6-4cba-b8c9-49cbbeabebf0",
   "metadata": {},
   "outputs": [],
   "source": [
    "numeric_cols = ['DEPARTURE_TIME', 'DEPARTURE_DELAY', 'SCHEDULED_DEPARTURE', 'FLIGHT_NUMBER'] \n",
    "for col in numeric_cols:\n",
    "    df2[col] = pd.to_numeric(df2[col], errors='coerce')\n",
    "df2 = df2.fillna(0)"
   ]
  },
  {
   "cell_type": "code",
   "execution_count": 15,
   "id": "fb1ed25c-c07d-4174-b8ea-32c8a1407c69",
   "metadata": {},
   "outputs": [],
   "source": [
    "df.to_csv('cleaned_flight_data.csv', index=False)"
   ]
  },
  {
   "cell_type": "code",
   "execution_count": 16,
   "id": "bed7c0c4-1d14-4501-ab6c-32174bd7a66e",
   "metadata": {},
   "outputs": [
    {
     "name": "stdout",
     "output_type": "stream",
     "text": [
      "Column Names:\n",
      "['IATA_CODE', 'AIRLINE']\n",
      "\n",
      "Row 1 Data:\n",
      "IATA_CODE                       UA\n",
      "AIRLINE      United Air Lines Inc.\n",
      "Name: 0, dtype: object\n"
     ]
    }
   ],
   "source": [
    "# Print header and first row\n",
    "print(\"Column Names:\")\n",
    "print(list(df.columns))\n",
    "\n",
    "print(\"\\nRow 1 Data:\")\n",
    "print(df.iloc[0])  "
   ]
  },
  {
   "cell_type": "code",
   "execution_count": 17,
   "id": "d26a4a5b-7d09-4692-8e1e-c04a12582c67",
   "metadata": {},
   "outputs": [
    {
     "name": "stdout",
     "output_type": "stream",
     "text": [
      "                          0\n",
      "YEAR                   2015\n",
      "MONTH                     1\n",
      "DAY                       1\n",
      "DAY_OF_WEEK               4\n",
      "AIRLINE                  AS\n",
      "FLIGHT_NUMBER            98\n",
      "TAIL_NUMBER          N407AS\n",
      "ORIGIN_AIRPORT          ANC\n",
      "DESTINATION_AIRPORT     SEA\n",
      "SCHEDULED_DEPARTURE       5\n",
      "DEPARTURE_TIME       2354.0\n",
      "DEPARTURE_DELAY       -11.0\n",
      "TAXI_OUT               21.0\n",
      "WHEELS_OFF             15.0\n",
      "SCHEDULED_TIME        205.0\n",
      "ELAPSED_TIME          194.0\n",
      "AIR_TIME              169.0\n",
      "DISTANCE               1448\n",
      "WHEELS_ON             404.0\n",
      "TAXI_IN                 4.0\n",
      "SCHEDULED_ARRIVAL       430\n",
      "ARRIVAL_TIME          408.0\n",
      "ARRIVAL_DELAY         -22.0\n",
      "DIVERTED                  0\n",
      "CANCELLED                 0\n",
      "CANCELLATION_REASON       0\n",
      "AIR_SYSTEM_DELAY        0.0\n",
      "SECURITY_DELAY          0.0\n",
      "AIRLINE_DELAY           0.0\n",
      "LATE_AIRCRAFT_DELAY     0.0\n",
      "WEATHER_DELAY           0.0\n"
     ]
    }
   ],
   "source": [
    "print(df2.head(1).T)\n",
    "df2.to_csv('flights.csv', index=False)"
   ]
  },
  {
   "cell_type": "code",
   "execution_count": 7,
   "id": "ed1d0374-e623-4ef0-a783-df3c79d310b8",
   "metadata": {},
   "outputs": [],
   "source": [
    "invalid_values = ['NA', '9999', '999', 'N/A']\n",
    "df2['ARRIVAL_TIME'] = df2['ARRIVAL_TIME'].apply(lambda x: '' if str(x).strip() in invalid_values else x)\n",
    "# Save cleaned file\n",
    "df2.to_csv(r\"C:/ProgramData/MySQL/MySQL Server 8.0/Uploads/Project files internship/flights_cleaned.csv\", index=False)"
   ]
  },
  {
   "cell_type": "code",
   "execution_count": 20,
   "id": "dd0633bf-32a1-46d4-b1af-e11752255988",
   "metadata": {},
   "outputs": [
    {
     "name": "stdout",
     "output_type": "stream",
     "text": [
      "YEAR                     int64\n",
      "MONTH                    int64\n",
      "DAY                      int64\n",
      "DAY_OF_WEEK              int64\n",
      "AIRLINE                 object\n",
      "FLIGHT_NUMBER            int64\n",
      "TAIL_NUMBER             object\n",
      "ORIGIN_AIRPORT          object\n",
      "DESTINATION_AIRPORT     object\n",
      "SCHEDULED_DEPARTURE      int64\n",
      "DEPARTURE_TIME         float64\n",
      "DEPARTURE_DELAY        float64\n",
      "TAXI_OUT               float64\n",
      "WHEELS_OFF             float64\n",
      "SCHEDULED_TIME         float64\n",
      "ELAPSED_TIME           float64\n",
      "AIR_TIME               float64\n",
      "DISTANCE                 int64\n",
      "WHEELS_ON              float64\n",
      "TAXI_IN                float64\n",
      "SCHEDULED_ARRIVAL        int64\n",
      "ARRIVAL_TIME           float64\n",
      "ARRIVAL_DELAY          float64\n",
      "DIVERTED                 int64\n",
      "CANCELLED                int64\n",
      "CANCELLATION_REASON     object\n",
      "AIR_SYSTEM_DELAY       float64\n",
      "SECURITY_DELAY         float64\n",
      "AIRLINE_DELAY          float64\n",
      "LATE_AIRCRAFT_DELAY    float64\n",
      "WEATHER_DELAY          float64\n",
      "dtype: object\n"
     ]
    }
   ],
   "source": [
    "print(df2.dtypes)"
   ]
  },
  {
   "cell_type": "code",
   "execution_count": 21,
   "id": "704b273e-189f-441f-8283-16ba5cd2e959",
   "metadata": {},
   "outputs": [
    {
     "name": "stdout",
     "output_type": "stream",
     "text": [
      "\n",
      "Airports Column Data Types:\n",
      "IATA_CODE     object\n",
      "AIRPORT       object\n",
      "CITY          object\n",
      "STATE         object\n",
      "COUNTRY       object\n",
      "LATITUDE     float64\n",
      "LONGITUDE    float64\n",
      "dtype: object\n"
     ]
    }
   ],
   "source": [
    "print(\"\\nAirports Column Data Types:\")\n",
    "print(df1.dtypes)"
   ]
  },
  {
   "cell_type": "code",
   "execution_count": 22,
   "id": "264bd8e7-b92d-45cc-af4c-ba3c1021f947",
   "metadata": {},
   "outputs": [
    {
     "name": "stdout",
     "output_type": "stream",
     "text": [
      "\n",
      "Airlines Column Data Types:\n",
      "IATA_CODE    object\n",
      "AIRLINE      object\n",
      "dtype: object\n"
     ]
    }
   ],
   "source": [
    "print(\"\\nAirlines Column Data Types:\")\n",
    "print(df.dtypes)"
   ]
  },
  {
   "cell_type": "code",
   "execution_count": 52,
   "id": "66e65a0d-a0de-4d13-922f-bdef562f0a06",
   "metadata": {},
   "outputs": [
    {
     "name": "stdout",
     "output_type": "stream",
     "text": [
      "\n",
      "Missing values in flights:\n",
      "YEAR                   0\n",
      "MONTH                  0\n",
      "DAY                    0\n",
      "DAY_OF_WEEK            0\n",
      "AIRLINE                0\n",
      "FLIGHT_NUMBER          0\n",
      "TAIL_NUMBER            0\n",
      "ORIGIN_AIRPORT         0\n",
      "DESTINATION_AIRPORT    0\n",
      "SCHEDULED_DEPARTURE    0\n",
      "DEPARTURE_TIME         0\n",
      "DEPARTURE_DELAY        0\n",
      "TAXI_OUT               0\n",
      "WHEELS_OFF             0\n",
      "SCHEDULED_TIME         0\n",
      "ELAPSED_TIME           0\n",
      "AIR_TIME               0\n",
      "DISTANCE               0\n",
      "WHEELS_ON              0\n",
      "TAXI_IN                0\n",
      "SCHEDULED_ARRIVAL      0\n",
      "ARRIVAL_TIME           0\n",
      "ARRIVAL_DELAY          0\n",
      "DIVERTED               0\n",
      "CANCELLED              0\n",
      "CANCELLATION_REASON    0\n",
      "AIR_SYSTEM_DELAY       0\n",
      "SECURITY_DELAY         0\n",
      "AIRLINE_DELAY          0\n",
      "LATE_AIRCRAFT_DELAY    0\n",
      "WEATHER_DELAY          0\n",
      "dtype: int64\n"
     ]
    }
   ],
   "source": [
    "# Checking for missing values\n",
    "print(\"\\nMissing values in flights:\")\n",
    "print(df2.isnull().sum())"
   ]
  },
  {
   "cell_type": "code",
   "execution_count": 24,
   "id": "61178e69-01e0-4467-96cc-081578803d3e",
   "metadata": {},
   "outputs": [
    {
     "name": "stdout",
     "output_type": "stream",
     "text": [
      "\n",
      "Missing values in airports:\n",
      "IATA_CODE    0\n",
      "AIRPORT      0\n",
      "CITY         0\n",
      "STATE        0\n",
      "COUNTRY      0\n",
      "LATITUDE     3\n",
      "LONGITUDE    3\n",
      "dtype: int64\n"
     ]
    }
   ],
   "source": [
    "print(\"\\nMissing values in airports:\")\n",
    "print(df1.isnull().sum())"
   ]
  },
  {
   "cell_type": "code",
   "execution_count": 25,
   "id": "bb90519d-9e52-420d-84fd-669035a74a10",
   "metadata": {},
   "outputs": [
    {
     "name": "stdout",
     "output_type": "stream",
     "text": [
      "\n",
      "Missing values in airlines:\n",
      "IATA_CODE    0\n",
      "AIRLINE      0\n",
      "dtype: int64\n"
     ]
    }
   ],
   "source": [
    "print(\"\\nMissing values in airlines:\")\n",
    "print(df.isnull().sum())"
   ]
  },
  {
   "cell_type": "code",
   "execution_count": 11,
   "id": "8eaadd70-e988-49ea-98fa-f04106e8281f",
   "metadata": {},
   "outputs": [
    {
     "name": "stdout",
     "output_type": "stream",
     "text": [
      "\n",
      "Unique IATA codes in airports: 322\n",
      "Total records in airports: 322\n"
     ]
    }
   ],
   "source": [
    "# Checking uniqueness of primary key columns\n",
    "print(\"\\nUnique IATA codes in airports:\", df1['IATA_CODE'].nunique())\n",
    "print(\"Total records in airports:\", len(df1))"
   ]
  },
  {
   "cell_type": "code",
   "execution_count": 12,
   "id": "141c5f80-fc20-4a40-a2c6-dd78e352990d",
   "metadata": {},
   "outputs": [],
   "source": [
    "# Checking foreign key consistency\n",
    "invalid_origin = df2[~df2['ORIGIN_AIRPORT'].isin(df1['IATA_CODE'])]\n",
    "invalid_dest = df2[~df2['DESTINATION_AIRPORT'].isin(df1['IATA_CODE'])]"
   ]
  },
  {
   "cell_type": "code",
   "execution_count": 28,
   "id": "20f0fb43-2987-4068-bf9a-b7269bbd92ef",
   "metadata": {},
   "outputs": [
    {
     "name": "stdout",
     "output_type": "stream",
     "text": [
      "\n",
      "Invalid origin airports in flights not found in airports table:\n",
      "         YEAR  MONTH  DAY  DAY_OF_WEEK AIRLINE  FLIGHT_NUMBER TAIL_NUMBER  \\\n",
      "4385712  2015     10    1            4      AA           1230      N3DBAA   \n",
      "4385713  2015     10    1            4      DL           1805      N696DL   \n",
      "4385714  2015     10    1            4      NK            612      N602NK   \n",
      "4385715  2015     10    1            4      AA            260      N3GNAA   \n",
      "4385716  2015     10    1            4      AA           1982      N914UY   \n",
      "...       ...    ...  ...          ...     ...            ...         ...   \n",
      "4871872  2015     10   31            6      B6             98      N715JB   \n",
      "4871873  2015     10   31            6      B6            839      N834JB   \n",
      "4871874  2015     10   31            6      B6           1503      N907JB   \n",
      "4871875  2015     10   31            6      UA           1696      N68836   \n",
      "4871876  2015     10   31            6      UA            717      N69829   \n",
      "\n",
      "        ORIGIN_AIRPORT DESTINATION_AIRPORT  SCHEDULED_DEPARTURE  ...  \\\n",
      "4385712          14747               11298                    5  ...   \n",
      "4385713          14771               13487                    5  ...   \n",
      "4385714          12889               13487                    5  ...   \n",
      "4385715          12892               13303                   10  ...   \n",
      "4385716          14771               11057                   10  ...   \n",
      "...                ...                 ...                  ...  ...   \n",
      "4871872          11292               12478                 2359  ...   \n",
      "4871873          12478               10732                 2359  ...   \n",
      "4871874          12478               14843                 2359  ...   \n",
      "4871875          14747               12266                 2359  ...   \n",
      "4871876          12892               12266                 2359  ...   \n",
      "\n",
      "         ARRIVAL_TIME  ARRIVAL_DELAY  DIVERTED  CANCELLED  \\\n",
      "4385712         543.0          -19.0         0          0   \n",
      "4385713         528.0          -10.0         0          0   \n",
      "4385714         448.0          -14.0         0          0   \n",
      "4385715         813.0            7.0         0          0   \n",
      "4385716         750.0          -11.0         0          0   \n",
      "...               ...            ...       ...        ...   \n",
      "4871872         427.0            0.0         0          0   \n",
      "4871873         322.0          -17.0         0          0   \n",
      "4871874         502.0           80.0         0          0   \n",
      "4871875         442.0          -22.0         0          0   \n",
      "4871876         413.0            3.0         0          0   \n",
      "\n",
      "         CANCELLATION_REASON  AIR_SYSTEM_DELAY  SECURITY_DELAY  AIRLINE_DELAY  \\\n",
      "4385712                    0               0.0             0.0            0.0   \n",
      "4385713                    0               0.0             0.0            0.0   \n",
      "4385714                    0               0.0             0.0            0.0   \n",
      "4385715                    0               0.0             0.0            0.0   \n",
      "4385716                    0               0.0             0.0            0.0   \n",
      "...                      ...               ...             ...            ...   \n",
      "4871872                    0               0.0             0.0            0.0   \n",
      "4871873                    0               0.0             0.0            0.0   \n",
      "4871874                    0               0.0             0.0           80.0   \n",
      "4871875                    0               0.0             0.0            0.0   \n",
      "4871876                    0               0.0             0.0            0.0   \n",
      "\n",
      "         LATE_AIRCRAFT_DELAY  WEATHER_DELAY  \n",
      "4385712                  0.0            0.0  \n",
      "4385713                  0.0            0.0  \n",
      "4385714                  0.0            0.0  \n",
      "4385715                  0.0            0.0  \n",
      "4385716                  0.0            0.0  \n",
      "...                      ...            ...  \n",
      "4871872                  0.0            0.0  \n",
      "4871873                  0.0            0.0  \n",
      "4871874                  0.0            0.0  \n",
      "4871875                  0.0            0.0  \n",
      "4871876                  0.0            0.0  \n",
      "\n",
      "[486165 rows x 31 columns]\n"
     ]
    }
   ],
   "source": [
    "print(\"\\nInvalid origin airports in flights not found in airports table:\")\n",
    "print(invalid_origin)"
   ]
  },
  {
   "cell_type": "code",
   "execution_count": 29,
   "id": "69781866-6361-4187-98e7-7420be260960",
   "metadata": {},
   "outputs": [
    {
     "name": "stdout",
     "output_type": "stream",
     "text": [
      "\n",
      "Invalid destination airports in flights not found in airports table:\n",
      "         YEAR  MONTH  DAY  DAY_OF_WEEK AIRLINE  FLIGHT_NUMBER TAIL_NUMBER  \\\n",
      "4385712  2015     10    1            4      AA           1230      N3DBAA   \n",
      "4385713  2015     10    1            4      DL           1805      N696DL   \n",
      "4385714  2015     10    1            4      NK            612      N602NK   \n",
      "4385715  2015     10    1            4      AA            260      N3GNAA   \n",
      "4385716  2015     10    1            4      AA           1982      N914UY   \n",
      "...       ...    ...  ...          ...     ...            ...         ...   \n",
      "4871872  2015     10   31            6      B6             98      N715JB   \n",
      "4871873  2015     10   31            6      B6            839      N834JB   \n",
      "4871874  2015     10   31            6      B6           1503      N907JB   \n",
      "4871875  2015     10   31            6      UA           1696      N68836   \n",
      "4871876  2015     10   31            6      UA            717      N69829   \n",
      "\n",
      "        ORIGIN_AIRPORT DESTINATION_AIRPORT  SCHEDULED_DEPARTURE  ...  \\\n",
      "4385712          14747               11298                    5  ...   \n",
      "4385713          14771               13487                    5  ...   \n",
      "4385714          12889               13487                    5  ...   \n",
      "4385715          12892               13303                   10  ...   \n",
      "4385716          14771               11057                   10  ...   \n",
      "...                ...                 ...                  ...  ...   \n",
      "4871872          11292               12478                 2359  ...   \n",
      "4871873          12478               10732                 2359  ...   \n",
      "4871874          12478               14843                 2359  ...   \n",
      "4871875          14747               12266                 2359  ...   \n",
      "4871876          12892               12266                 2359  ...   \n",
      "\n",
      "         ARRIVAL_TIME  ARRIVAL_DELAY  DIVERTED  CANCELLED  \\\n",
      "4385712         543.0          -19.0         0          0   \n",
      "4385713         528.0          -10.0         0          0   \n",
      "4385714         448.0          -14.0         0          0   \n",
      "4385715         813.0            7.0         0          0   \n",
      "4385716         750.0          -11.0         0          0   \n",
      "...               ...            ...       ...        ...   \n",
      "4871872         427.0            0.0         0          0   \n",
      "4871873         322.0          -17.0         0          0   \n",
      "4871874         502.0           80.0         0          0   \n",
      "4871875         442.0          -22.0         0          0   \n",
      "4871876         413.0            3.0         0          0   \n",
      "\n",
      "         CANCELLATION_REASON  AIR_SYSTEM_DELAY  SECURITY_DELAY  AIRLINE_DELAY  \\\n",
      "4385712                    0               0.0             0.0            0.0   \n",
      "4385713                    0               0.0             0.0            0.0   \n",
      "4385714                    0               0.0             0.0            0.0   \n",
      "4385715                    0               0.0             0.0            0.0   \n",
      "4385716                    0               0.0             0.0            0.0   \n",
      "...                      ...               ...             ...            ...   \n",
      "4871872                    0               0.0             0.0            0.0   \n",
      "4871873                    0               0.0             0.0            0.0   \n",
      "4871874                    0               0.0             0.0           80.0   \n",
      "4871875                    0               0.0             0.0            0.0   \n",
      "4871876                    0               0.0             0.0            0.0   \n",
      "\n",
      "         LATE_AIRCRAFT_DELAY  WEATHER_DELAY  \n",
      "4385712                  0.0            0.0  \n",
      "4385713                  0.0            0.0  \n",
      "4385714                  0.0            0.0  \n",
      "4385715                  0.0            0.0  \n",
      "4385716                  0.0            0.0  \n",
      "...                      ...            ...  \n",
      "4871872                  0.0            0.0  \n",
      "4871873                  0.0            0.0  \n",
      "4871874                  0.0            0.0  \n",
      "4871875                  0.0            0.0  \n",
      "4871876                  0.0            0.0  \n",
      "\n",
      "[486165 rows x 31 columns]\n"
     ]
    }
   ],
   "source": [
    "print(\"\\nInvalid destination airports in flights not found in airports table:\")\n",
    "print(invalid_dest)"
   ]
  },
  {
   "cell_type": "code",
   "execution_count": 13,
   "id": "b38b6df0-6e7e-4608-9298-282b03cd6b87",
   "metadata": {},
   "outputs": [],
   "source": [
    "# Checking airline_code mapping if available\n",
    "if 'AIRLINE ' in df2.columns and 'IATA_CODE' in df.columns:\n",
    "    invalid_airlines = df2[~df2['AIRLINE '].isin(df['IATA_CODE'])]\n",
    "    print(\"\\nInvalid airlines in flights not found in airlines table:\")\n",
    "    print(invalid_airlines)"
   ]
  },
  {
   "cell_type": "code",
   "execution_count": 48,
   "id": "731f8e74-6299-471b-af67-9890923b6507",
   "metadata": {},
   "outputs": [],
   "source": [
    "# Saving invalid rows to CSV for review\n",
    "invalid_origin.to_csv(\"invalid_origin_airports.csv\", index=False)\n",
    "invalid_dest.to_csv(\"invalid_destination_airports.csv\", index=False)"
   ]
  },
  {
   "cell_type": "code",
   "execution_count": 14,
   "id": "16e42a2e-305e-4e81-b641-8eb5318a15c7",
   "metadata": {},
   "outputs": [
    {
     "name": "stdout",
     "output_type": "stream",
     "text": [
      "\n",
      "Basic Flight Stats:\n",
      "             YEAR         MONTH           DAY   DAY_OF_WEEK  AIRLINE  \\\n",
      "count   5819079.0  5.819079e+06  5.819079e+06  5.819079e+06  5819079   \n",
      "unique        NaN           NaN           NaN           NaN       14   \n",
      "top           NaN           NaN           NaN           NaN       WN   \n",
      "freq          NaN           NaN           NaN           NaN  1261855   \n",
      "mean       2015.0  6.524085e+00  1.570459e+01  3.926941e+00      NaN   \n",
      "std           0.0  3.405137e+00  8.783425e+00  1.988845e+00      NaN   \n",
      "min        2015.0  1.000000e+00  1.000000e+00  1.000000e+00      NaN   \n",
      "25%        2015.0  4.000000e+00  8.000000e+00  2.000000e+00      NaN   \n",
      "50%        2015.0  7.000000e+00  1.600000e+01  4.000000e+00      NaN   \n",
      "75%        2015.0  9.000000e+00  2.300000e+01  6.000000e+00      NaN   \n",
      "max        2015.0  1.200000e+01  3.100000e+01  7.000000e+00      NaN   \n",
      "\n",
      "        FLIGHT_NUMBER  TAIL_NUMBER ORIGIN_AIRPORT DESTINATION_AIRPORT  \\\n",
      "count    5.819079e+06    5819079.0        5819079             5819079   \n",
      "unique            NaN       4898.0            628                 629   \n",
      "top               NaN          0.0            ATL                 ATL   \n",
      "freq              NaN      14721.0         346836              346904   \n",
      "mean     2.173093e+03          NaN            NaN                 NaN   \n",
      "std      1.757064e+03          NaN            NaN                 NaN   \n",
      "min      1.000000e+00          NaN            NaN                 NaN   \n",
      "25%      7.300000e+02          NaN            NaN                 NaN   \n",
      "50%      1.690000e+03          NaN            NaN                 NaN   \n",
      "75%      3.230000e+03          NaN            NaN                 NaN   \n",
      "max      9.855000e+03          NaN            NaN                 NaN   \n",
      "\n",
      "        SCHEDULED_DEPARTURE  ...  ARRIVAL_TIME  ARRIVAL_DELAY      DIVERTED  \\\n",
      "count          5.819079e+06  ...  5.819079e+06   5.819079e+06  5.819079e+06   \n",
      "unique                  NaN  ...           NaN            NaN           NaN   \n",
      "top                     NaN  ...           NaN            NaN           NaN   \n",
      "freq                    NaN  ...           NaN            NaN           NaN   \n",
      "mean           1.329602e+03  ...  1.453018e+03   4.327482e+00  2.609863e-03   \n",
      "std            4.837518e+02  ...  5.538195e+02   3.891956e+01  5.102012e-02   \n",
      "min            1.000000e+00  ...  0.000000e+00  -8.700000e+01  0.000000e+00   \n",
      "25%            9.170000e+02  ...  1.046000e+03  -1.300000e+01  0.000000e+00   \n",
      "50%            1.325000e+03  ...  1.504000e+03  -5.000000e+00  0.000000e+00   \n",
      "75%            1.730000e+03  ...  1.913000e+03   7.000000e+00  0.000000e+00   \n",
      "max            2.359000e+03  ...  2.400000e+03   1.971000e+03  1.000000e+00   \n",
      "\n",
      "           CANCELLED  CANCELLATION_REASON  AIR_SYSTEM_DELAY  SECURITY_DELAY  \\\n",
      "count   5.819079e+06            5819079.0      5.819079e+06    5.819079e+06   \n",
      "unique           NaN                  5.0               NaN             NaN   \n",
      "top              NaN                  0.0               NaN             NaN   \n",
      "freq             NaN            5729195.0               NaN             NaN   \n",
      "mean    1.544643e-02                  NaN      2.463579e+00    1.391715e-02   \n",
      "std     1.233201e-01                  NaN      1.305584e+01    9.167865e-01   \n",
      "min     0.000000e+00                  NaN      0.000000e+00    0.000000e+00   \n",
      "25%     0.000000e+00                  NaN      0.000000e+00    0.000000e+00   \n",
      "50%     0.000000e+00                  NaN      0.000000e+00    0.000000e+00   \n",
      "75%     0.000000e+00                  NaN      0.000000e+00    0.000000e+00   \n",
      "max     1.000000e+00                  NaN      1.134000e+03    5.730000e+02   \n",
      "\n",
      "        AIRLINE_DELAY  LATE_AIRCRAFT_DELAY  WEATHER_DELAY  \n",
      "count    5.819079e+06         5.819079e+06   5.819079e+06  \n",
      "unique            NaN                  NaN            NaN  \n",
      "top               NaN                  NaN            NaN  \n",
      "freq              NaN                  NaN            NaN  \n",
      "mean     3.466692e+00         4.289670e+00   5.327704e-01  \n",
      "std      2.185500e+01         2.057421e+01   8.807465e+00  \n",
      "min      0.000000e+00         0.000000e+00   0.000000e+00  \n",
      "25%      0.000000e+00         0.000000e+00   0.000000e+00  \n",
      "50%      0.000000e+00         0.000000e+00   0.000000e+00  \n",
      "75%      0.000000e+00         0.000000e+00   0.000000e+00  \n",
      "max      1.971000e+03         1.331000e+03   1.211000e+03  \n",
      "\n",
      "[11 rows x 31 columns]\n"
     ]
    }
   ],
   "source": [
    "# Summary Stats\n",
    "print(\"\\nBasic Flight Stats:\")\n",
    "print(df2.describe(include='all'))"
   ]
  },
  {
   "cell_type": "code",
   "execution_count": 15,
   "id": "0a900e85-9401-4d81-ba71-b71ea27b739a",
   "metadata": {},
   "outputs": [
    {
     "name": "stdout",
     "output_type": "stream",
     "text": [
      "\n",
      "Top 5 busiest origin airports:\n",
      "ORIGIN_AIRPORT\n",
      "ATL    346836\n",
      "ORD    285884\n",
      "DFW    239551\n",
      "DEN    196055\n",
      "LAX    194673\n",
      "Name: count, dtype: int64\n"
     ]
    }
   ],
   "source": [
    "# 9.Exploring top 5 busiest origin airports\n",
    "top_origins = df2['ORIGIN_AIRPORT'].value_counts().head()\n",
    "print(\"\\nTop 5 busiest origin airports:\")\n",
    "print(top_origins)"
   ]
  },
  {
   "cell_type": "code",
   "execution_count": 16,
   "id": "46e211ac-e5a2-4c2f-9e5a-225d93483ec6",
   "metadata": {},
   "outputs": [
    {
     "name": "stdout",
     "output_type": "stream",
     "text": [
      "\n",
      "Converted departure_time to datetime\n"
     ]
    }
   ],
   "source": [
    "# Converting object columns to datetime (if needed)\n",
    "if 'DEPARTURE_TIME' in df2.columns:\n",
    "    df2['DEPARTURE_TIME'] = pd.to_datetime(df2['DEPARTURE_TIME'], errors='coerce')\n",
    "    print(\"\\nConverted departure_time to datetime\")"
   ]
  },
  {
   "cell_type": "code",
   "execution_count": 35,
   "id": "ed80d207-8ac9-4a4f-94b0-8e830d9c6560",
   "metadata": {},
   "outputs": [
    {
     "name": "stdout",
     "output_type": "stream",
     "text": [
      "Converted arrival_time to datetime\n"
     ]
    }
   ],
   "source": [
    "if 'ARRIVAL_TIME' in df2.columns:\n",
    "    df2['ARRIVAL_TIME'] = pd.to_datetime(df2['ARRIVAL_TIME'], errors='coerce')\n",
    "    print(\"Converted arrival_time to datetime\")"
   ]
  },
  {
   "cell_type": "code",
   "execution_count": 36,
   "id": "58ab6c0a-9c38-48c5-96aa-bb32dac5c75e",
   "metadata": {},
   "outputs": [
    {
     "name": "stdout",
     "output_type": "stream",
     "text": [
      "CREATE TABLE \"flights\" (\n",
      "\"IATA_CODE\" TEXT,\n",
      "  \"AIRLINE\" TEXT\n",
      ")\n"
     ]
    }
   ],
   "source": [
    "from pandas.io.sql import get_schema\n",
    "print(get_schema(df, 'flights'))"
   ]
  },
  {
   "cell_type": "code",
   "execution_count": 39,
   "id": "3f95a717-8ecb-4998-8975-6e724d60e6af",
   "metadata": {},
   "outputs": [],
   "source": [
    "df_merged = df2.merge(df, left_on=\"AIRLINE\", right_on=\"IATA_CODE\", how=\"left\")\n",
    "df_merged = df_merged.merge(df1, left_on=\"ORIGIN_AIRPORT\", right_on=\"IATA_CODE\", how=\"left\")"
   ]
  },
  {
   "cell_type": "code",
   "execution_count": 41,
   "id": "123c5c6c-896b-4351-a42e-c1bc6e5c38df",
   "metadata": {},
   "outputs": [
    {
     "data": {
      "text/plain": [
       "AIRLINE\n",
       "AS    -0.970438\n",
       "DL     0.185558\n",
       "HA     2.016966\n",
       "AA     3.389336\n",
       "US     3.622429\n",
       "WN     4.307522\n",
       "VX     4.687576\n",
       "UA     5.347749\n",
       "OO     5.731005\n",
       "MQ     6.110663\n",
       "EV     6.387061\n",
       "B6     6.552680\n",
       "F9    12.402010\n",
       "NK    14.202285\n",
       "Name: ARRIVAL_DELAY, dtype: float64"
      ]
     },
     "execution_count": 41,
     "metadata": {},
     "output_type": "execute_result"
    }
   ],
   "source": [
    "# Top airlines by number of flights\n",
    "df2['AIRLINE'].value_counts().head()\n",
    "\n",
    "# Busiest origin airports\n",
    "df2['ORIGIN_AIRPORT'].value_counts().head()\n",
    "\n",
    "# Average arrival delay per airline\n",
    "df2.groupby('AIRLINE')['ARRIVAL_DELAY'].mean().sort_values()"
   ]
  },
  {
   "cell_type": "code",
   "execution_count": 42,
   "id": "2a74b7b5-2830-4439-aec1-96e798b62c91",
   "metadata": {},
   "outputs": [
    {
     "data": {
      "image/png": "[encoded data removed]",
      "text/plain": [
       "<Figure size 640x480 with 1 Axes>"
      ]
     },
     "metadata": {},
     "output_type": "display_data"
    }
   ],
   "source": [
    "import seaborn as sns\n",
    "import matplotlib.pyplot as plt\n",
    "\n",
    "# Plot flight count per airline\n",
    "sns.countplot(data=df2, x='AIRLINE')\n",
    "plt.xticks(rotation=90)\n",
    "plt.title(\"Flights per Airline\")\n",
    "plt.show()"
   ]
  },
  {
   "cell_type": "code",
   "execution_count": 45,
   "id": "b31f6827-cb56-4e08-8be9-7c63b966c5d6",
   "metadata": {},
   "outputs": [
    {
     "data": {
      "image/png": "[encoded data removed]",
      "text/plain": [
       "<Figure size 640x480 with 1 Axes>"
      ]
     },
     "metadata": {},
     "output_type": "display_data"
    }
   ],
   "source": [
    "# Average arrival delay per airline\n",
    "sns.barplot(data=df2, x='AIRLINE', y='ARRIVAL_DELAY')\n",
    "plt.xticks(rotation=90)\n",
    "plt.title('Average Arrival Delay by Airline')\n",
    "plt.show()"
   ]
  },
  {
   "cell_type": "code",
   "execution_count": 44,
   "id": "dfbb6497-76d8-4302-beb4-f485ac4a65ad",
   "metadata": {},
   "outputs": [
    {
     "data": {
      "image/png": "[encoded data removed]",
      "text/plain": [
       "<Figure size 640x480 with 1 Axes>"
      ]
     },
     "metadata": {},
     "output_type": "display_data"
    }
   ],
   "source": [
    "# Top 10 Origin Airports by Flight Count\n",
    "top_airports = df2['ORIGIN_AIRPORT'].value_counts().head(10)\n",
    "sns.barplot(x=top_airports.index, y=top_airports.values)\n",
    "plt.xticks(rotation=90)\n",
    "plt.title('Top 10 Origin Airports by Number of Flights')\n",
    "plt.show()"
   ]
  },
  {
   "cell_type": "code",
   "execution_count": 53,
   "id": "dda071b2-7dcb-42c8-a790-cbe905bfa23f",
   "metadata": {},
   "outputs": [
    {
     "data": {
      "image/png": "[encoded data removed]",
      "text/plain": [
       "<Figure size 640x480 with 1 Axes>"
      ]
     },
     "metadata": {},
     "output_type": "display_data"
    }
   ],
   "source": [
    "# Flights per airline\n",
    "sns.countplot(data=df, x='AIRLINE')\n",
    "plt.xticks(rotation=90)\n",
    "plt.title(\"Number of Flights per Airline\")\n",
    "plt.show()\n",
    "\n",
    "# Cancelled flights by airline\n",
    "if 'CANCELLED' in df.columns:\n",
    "    sns.countplot(data=df[df['CANCELLED'] == 1], x='AIRLINE')\n",
    "    plt.xticks(rotation=90)\n",
    "    plt.title(\"Cancelled Flights per Airline\")\n",
    "    plt.show()"
   ]
  },
  {
   "cell_type": "code",
   "execution_count": 17,
   "id": "116550e4-57e8-4d2b-97e2-ae6ddb7608df",
   "metadata": {},
   "outputs": [],
   "source": [
    "df2_cleaned = df2.dropna(subset=['SCHEDULED_DEPARTURE', 'DEPARTURE_TIME', 'SCHEDULED_ARRIVAL', 'ARRIVAL_TIME'])"
   ]
  },
  {
   "cell_type": "code",
   "execution_count": 18,
   "id": "0d447573-936f-43e8-af26-a18b717d03ba",
   "metadata": {},
   "outputs": [],
   "source": [
    "filtered_df = df2_cleaned[[\n",
    "    'YEAR', 'MONTH', 'DAY', 'DAY_OF_WEEK',\n",
    "'AIRLINE', 'FLIGHT_NUMBER',\n",
    "'ORIGIN_AIRPORT', 'DESTINATION_AIRPORT',\n",
    "'SCHEDULED_DEPARTURE', 'DEPARTURE_TIME',\n",
    "'SCHEDULED_ARRIVAL', 'ARRIVAL_TIME', 'ARRIVAL_DELAY'\n",
    "]]"
   ]
  },
  {
   "cell_type": "code",
   "execution_count": 66,
   "id": "4e72f8b7-b73c-4192-95c9-6fbe0d9a0bd2",
   "metadata": {},
   "outputs": [],
   "source": [
    "# Save to new CSV file\n",
    "filtered_df.to_csv(\"FLIGHTS_TEMP.csv\", index=False)"
   ]
  },
  {
   "cell_type": "code",
   "execution_count": 25,
   "id": "465de634-ced1-4ff5-bb15-be5623b91aa0",
   "metadata": {},
   "outputs": [],
   "source": [
    "filtered_df.head(10000).to_csv('flight_temp_10k.csv', index=False)"
   ]
  }
 ],
 "metadata": {
  "kernelspec": {
   "display_name": "Python 3 (ipykernel)",
   "language": "python",
   "name": "python3"
  },
  "language_info": {
   "codemirror_mode": {
    "name": "ipython",
    "version": 3
   },
   "file_extension": ".py",
   "mimetype": "text/x-python",
   "name": "python",
   "nbconvert_exporter": "python",
   "pygments_lexer": "ipython3",
   "version": "3.12.7"
  }
 },
 "nbformat": 4,
 "nbformat_minor": 5
}
